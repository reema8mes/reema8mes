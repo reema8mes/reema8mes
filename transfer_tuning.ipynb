{
  "nbformat": 4,
  "nbformat_minor": 0,
  "metadata": {
    "colab": {
      "provenance": [],
      "mount_file_id": "1RlSgUGZPCRlim1b6OXkjA5lfntvfA91j",
      "authorship_tag": "ABX9TyPS8pPxPOtftThfBBH0M+uR",
      "include_colab_link": true
    },
    "kernelspec": {
      "name": "python3",
      "display_name": "Python 3"
    },
    "language_info": {
      "name": "python"
    },
    "accelerator": "GPU",
    "gpuClass": "standard"
  },
  "cells": [
    {
      "cell_type": "markdown",
      "metadata": {
        "id": "view-in-github",
        "colab_type": "text"
      },
      "source": [
        "<a href=\"https://colab.research.google.com/github/reema8mes/reema8mes/blob/main/transfer_tuning.ipynb\" target=\"_parent\"><img src=\"https://colab.research.google.com/assets/colab-badge.svg\" alt=\"Open In Colab\"/></a>"
      ]
    },
    {
      "cell_type": "code",
      "execution_count": null,
      "metadata": {
        "id": "g91N5l0g9dXa"
      },
      "outputs": [],
      "source": [
        "import os\n",
        "os.chdir('/content/drive/MyDrive/fdp')"
      ]
    },
    {
      "cell_type": "code",
      "source": [
        "import tensorflow as tf\n",
        "from tensorflow import keras\n",
        "tf.random.set_seed(42)\n",
        "import numpy as np\n",
        "np.random.seed(42)\n",
        "import matplotlib.pyplot as plt\n",
        "%matplotlib inline\n",
        "#for acessing input file use glob\n",
        "import glob\n",
        "import PIL\n",
        "from PIL import Image"
      ],
      "metadata": {
        "id": "uC86m-uZ-QLU"
      },
      "execution_count": null,
      "outputs": []
    },
    {
      "cell_type": "code",
      "source": [
        "! unzip '/content/drive/MyDrive/fdp/Flower_dataset.zip' -d '/content/drive/MyDrive/fdp/output'"
      ],
      "metadata": {
        "id": "vrw0T5wO-TAy"
      },
      "execution_count": null,
      "outputs": []
    },
    {
      "cell_type": "code",
      "source": [
        "imgFiles=glob.glob('/content/drive/MyDrive/fdp/output/tiny_FR/*/*.jpg')\n",
        "for items in imgFiles[:8]:\n",
        "  print(items)\n"
      ],
      "metadata": {
        "id": "P2EMJtw3-q6Z"
      },
      "execution_count": null,
      "outputs": []
    },
    {
      "cell_type": "code",
      "source": [
        "print(len(imgFiles))"
      ],
      "metadata": {
        "id": "wQPbxIoC-xSS"
      },
      "execution_count": null,
      "outputs": []
    },
    {
      "cell_type": "code",
      "source": [
        "X = []\n",
        "y = []\n",
        "\n",
        "for fName in imgFiles:\n",
        "  \n",
        "  # Prepare the dataset and populate X and y\n",
        "  X_i = Image.open(fName) # tiny_FR/sunflower/1715303025_e7065327e2.jpg (500, 333)\n",
        "  X_i = X_i.resize((299,299)) # To make them approriate to Xception model when using Transfer Learning \n",
        "  X_i = np.array(X_i) / 255.0 # Normalize to range 0.0 to 1.0 \n",
        "  X.append(X_i)\n",
        "\n",
        "  label = fName.split(\"/\") # ['tiny_FR', 'sunflower', '1715303025_e7065327e2.jpg'], list containing substrings\n",
        "  y_i = label[-2] # 'sunflower'\n",
        " \n",
        "  y.append(y_i)\n",
        "\n",
        "#processed all  image files and corresponding intensity values and labels stored in X and y respectively "
      ],
      "metadata": {
        "id": "r-83wv4s_Zws"
      },
      "execution_count": null,
      "outputs": []
    },
    {
      "cell_type": "code",
      "source": [
        "print(set(y)) # python function that lists unique values in the list. # these are string labels\n",
        "\n",
        "# but the network can only deal with numeric data.  "
      ],
      "metadata": {
        "id": "_8-AEX3c_enx"
      },
      "execution_count": null,
      "outputs": []
    },
    {
      "cell_type": "code",
      "source": [
        "print(set(Y))"
      ],
      "metadata": {
        "id": "KY4Z7NYP_jYp"
      },
      "execution_count": null,
      "outputs": []
    },
    {
      "cell_type": "code",
      "source": [
        "from sklearn.preprocessing import LabelEncoder\n",
        "lEncoder = LabelEncoder()\n",
        "y = lEncoder.fit_transform(y)\n",
        "print(set(y))\n",
        "\n",
        "print(lEncoder.classes_) #classes_ is a member variable in the class\n"
      ],
      "metadata": {
        "id": "r7Z2uWT__8Lp"
      },
      "execution_count": null,
      "outputs": []
    },
    {
      "cell_type": "code",
      "source": [
        "X = np.array(X)\n",
        "y = np.array(y)\n",
        "\n",
        "print(X.shape)\n",
        "print(y.shape)\n"
      ],
      "metadata": {
        "id": "xTSZ92x8AMcx"
      },
      "execution_count": null,
      "outputs": []
    },
    {
      "cell_type": "code",
      "source": [
        "from sklearn.model_selection import train_test_split\n",
        "\n",
        "X_train, X_test, y_train, y_test = train_test_split(X, y, test_size=0.2, \n",
        "                                                    stratify=y, random_state=42)\n",
        "\n",
        "print(\"X_train_shape: {}\".format(X_train.shape))\n",
        "print(\"X_test_shape: {}\".format(X_test.shape))"
      ],
      "metadata": {
        "id": "kzZcgMXcAS2J"
      },
      "execution_count": null,
      "outputs": []
    },
    {
      "cell_type": "code",
      "source": [
        "#standard scaling \n",
        "mu = X_train.mean()\n",
        "std = X_train.std()\n",
        "\n",
        "X_train_std = (X_train-mu)/std\n",
        "X_test_std = (X_test-mu)/std"
      ],
      "metadata": {
        "id": "a2VIWoyZC0BC"
      },
      "execution_count": null,
      "outputs": []
    },
    {
      "cell_type": "code",
      "source": [
        "# Retrieve the Xception model from Keras\n",
        "#view the entire model  \n",
        "Xception_model = keras.applications.Xception()\n",
        "\n",
        "tf.keras.utils.plot_model(\n",
        "    Xception_model,\n",
        "    to_file='Xmodel.png',\n",
        "    show_shapes=False,\n",
        "    show_layer_names=False,\n",
        "    rankdir='LR',\n",
        "    expand_nested=False,\n",
        "    dpi=96\n",
        ")"
      ],
      "metadata": {
        "id": "Zq4L0NVxEBZB"
      },
      "execution_count": null,
      "outputs": []
    },
    {
      "cell_type": "code",
      "source": [
        "#https://keras.io/api/applications/"
      ],
      "metadata": {
        "id": "7B_M3rS1EHGH"
      },
      "execution_count": null,
      "outputs": []
    },
    {
      "cell_type": "code",
      "source": [
        "# Take only the feature extractor part\n",
        "\n",
        "base_model = keras.applications.Xception(weights='imagenet', \n",
        "                                                  include_top=False)\n",
        "\n",
        "# Visualize the extractor part for transfer learning\n",
        "\n",
        "tf.keras.utils.plot_model(\n",
        "    base_model,\n",
        "    to_file='baseModel.png',\n",
        "    show_shapes=False,\n",
        "    show_layer_names=False,\n",
        "    rankdir='LR',\n",
        "    expand_nested=False,\n",
        "    dpi=96\n",
        ")"
      ],
      "metadata": {
        "id": "kmELRe7iENZw"
      },
      "execution_count": null,
      "outputs": []
    },
    {
      "cell_type": "code",
      "source": [
        "# Make the weights/parameters of fetaure extractor non-trainable\n",
        "# Freeze the weights - will not be updated during backpropagation\n",
        "for layer in base_model.layers:\n",
        "  layer.trainabe = False\n"
      ],
      "metadata": {
        "id": "Rl1YhBFmERVB"
      },
      "execution_count": null,
      "outputs": []
    },
    {
      "cell_type": "code",
      "source": [
        "#Add classifier part\n",
        "#Global Average Pooling - 2D\n",
        "#Output layer (5 units (because 5-class classificaiton problem)\n",
        "# Adding classifier\n",
        "#Inspect how flattening is made in the pretrained model. In Xception, they use GAP\n",
        "global_pool = keras.layers.GlobalAveragePooling2D()(base_model.output)\n",
        "\n",
        "output_ = keras.layers.Dense(units=5, activation='softmax')(global_pool)\n",
        "\n",
        "model_TL = keras.models.Model(inputs=[base_model.input], outputs=[output_])\n",
        "\n",
        "# Visualize the complete model\n",
        "tf.keras.utils.plot_model(\n",
        "    model_TL,\n",
        "    to_file='Model_TL.png',\n",
        "    show_shapes=False,\n",
        "    show_layer_names=False,\n",
        "    rankdir='LR',\n",
        "    expand_nested=False,\n",
        "    dpi=96\n",
        ")\n",
        "     "
      ],
      "metadata": {
        "id": "CSHGrHphEeYh"
      },
      "execution_count": null,
      "outputs": []
    },
    {
      "cell_type": "code",
      "source": [
        "model_TL.compile(loss='sparse_categorical_crossentropy', \n",
        "                 optimizer='adam', \n",
        "                 metrics=['accuracy'])\n",
        "#introduce callbacks to save the best model\n",
        "\n",
        "\n",
        "callbacks_TL = [            \n",
        "             keras.callbacks.ModelCheckpoint(\"bestTL.h5\",\n",
        "                                             monitor='val_accuracy',verbose=1,\n",
        "                                             save_weights_only=True,\n",
        "                                             save_best_only=True)]\n",
        "\n",
        "\n",
        "history_TL = model_TL.fit(x = X_train_std, y = y_train, epochs=50, \n",
        "                          validation_split=0.1, batch_size=16, callbacks=callbacks_TL)"
      ],
      "metadata": {
        "id": "fn1UR_btEvPP"
      },
      "execution_count": null,
      "outputs": []
    },
    {
      "cell_type": "code",
      "source": [
        "keys = ['accuracy', 'val_accuracy']\n",
        "progress = {k:v for k,v in history_TL.history.items() if k in keys}\n",
        "\n",
        "import pandas as pd\n",
        "pd.DataFrame(progress).plot()\n",
        "\n",
        "plt.xlabel(\"epochs\")\n",
        "plt.ylabel(\"accuracy\")\n",
        "\n",
        "plt.grid(True)\n",
        "plt.show()\n",
        "     "
      ],
      "metadata": {
        "id": "N6hRXPJSRci9"
      },
      "execution_count": null,
      "outputs": []
    }
  ]
}